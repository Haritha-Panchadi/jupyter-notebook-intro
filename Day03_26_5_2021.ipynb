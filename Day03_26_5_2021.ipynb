{
  "nbformat": 4,
  "nbformat_minor": 0,
  "metadata": {
    "colab": {
      "name": "Day03_26-5-2021.ipynb",
      "provenance": [],
      "collapsed_sections": []
    },
    "kernelspec": {
      "name": "python3",
      "display_name": "Python 3"
    },
    "language_info": {
      "name": "python"
    }
  },
  "cells": [
    {
      "cell_type": "code",
      "metadata": {
        "id": "AmmLqDXwtnBU",
        "colab": {
          "base_uri": "https://localhost:8080/"
        },
        "outputId": "c77c7083-a5d0-42bd-ae96-ca7973f93035"
      },
      "source": [
        "print(\"Hello World\")"
      ],
      "execution_count": null,
      "outputs": [
        {
          "output_type": "stream",
          "text": [
            "Hello World\n"
          ],
          "name": "stdout"
        }
      ]
    },
    {
      "cell_type": "code",
      "metadata": {
        "colab": {
          "base_uri": "https://localhost:8080/"
        },
        "id": "HaOw4sGIdDxi",
        "outputId": "1b9b814c-89a8-46e6-dbd2-9ca07732c90b"
      },
      "source": [
        "print(\"Hello World Again\")"
      ],
      "execution_count": null,
      "outputs": [
        {
          "output_type": "stream",
          "text": [
            "Hello World Again\n"
          ],
          "name": "stdout"
        }
      ]
    },
    {
      "cell_type": "markdown",
      "metadata": {
        "id": "kthqIvU5dWHk"
      },
      "source": [
        "html->Hyper Text Markup Language\n",
        "\n",
        "Markdown"
      ]
    },
    {
      "cell_type": "markdown",
      "metadata": {
        "id": "WEf0lMmJmChN"
      },
      "source": [
        "# Markdown syntax\n",
        "## Markdown syntax\n",
        "### Markdown syntax\n",
        "#### Markdown syntax\n",
        "##### Markdown syntax\n",
        "###### Markdown syntax\n",
        "\n",
        "\n",
        "\n",
        "\n",
        "<h1>Markdown syntax</h1>"
      ]
    },
    {
      "cell_type": "markdown",
      "metadata": {
        "id": "L0JE6GvArAd8"
      },
      "source": [
        "- python is easy to learn\n",
        "- python is easy to write\n",
        "* python is open source\n",
        "- python is a high level language\n",
        "    - high level language means user understandable language\n",
        "       * which is in english\n",
        "           - sub\n",
        "              - sub\n",
        "           - sub2   \n",
        "           "
      ]
    },
    {
      "cell_type": "markdown",
      "metadata": {
        "id": "Pv9w0t3grfaT"
      },
      "source": [
        "1. apple\n",
        "2. orange \n",
        "3. banana\n",
        "4. pine apple\n",
        "7. guva\n"
      ]
    },
    {
      "cell_type": "markdown",
      "metadata": {
        "id": "jQK68SJstSt5"
      },
      "source": [
        "### Font Style\n",
        "- I'm in **BOLD** font style\n",
        "- I'm in __BOLD__ style\n",
        "- I'm also in _ITALIIC_ style\n",
        "- I'm in *TALIIC* style\n",
        "- I'm in both ***BOLD and ITALIC*** style\n",
        "- I'm in both ___BOLD and ITALIC___ style\n",
        "- I'm ~striked off~\n",
        "- I'm ~**striked off and bold**~\n",
        "- I'm ~***striked off  and in bold and italic***~\n",
        "\n",
        "\n"
      ]
    },
    {
      "cell_type": "markdown",
      "metadata": {
        "id": "Y0_6PYas3Q1Z"
      },
      "source": [
        "### Insert Image\n",
        "\n",
        "\n",
        "#### Syntax ![Image Description](image path)\n",
        "\n",
        "![Python Logo](http://0to100academy.com/wp-content/uploads/2020/05/main-qimg-28cadbd02699c25a88e5c78d73c7babc-1.png)"
      ]
    },
    {
      "cell_type": "markdown",
      "metadata": {
        "id": "SaiYA6CI5461"
      },
      "source": [
        "#### Inserting Hyper link\n",
        "#### [some description](link)\n",
        "[click here to view python logo](http://0to100academy.com/wp-content/uploads/2020/05/main-qimg-28cadbd02699c25a88e5c78d73c7babc-1.png)"
      ]
    },
    {
      "cell_type": "markdown",
      "metadata": {
        "id": "IavkAfis7AS4"
      },
      "source": [
        "### Tabular data\n",
        "\n",
        "\n",
        "\n",
        "|Name|Rollno|EmailId|\n",
        "|----|------|-------|\n",
        "|std1|Roll1|***Email1***|\n",
        "|std2|Roll2|**Email2**|\n",
        "|std3|Roll3|*Email3*|"
      ]
    },
    {
      "cell_type": "markdown",
      "metadata": {
        "id": "Dfgf1Bat8A3s"
      },
      "source": [
        "#### Inserting code\n",
        "\n",
        "\n",
        "#### C code for hello world\n",
        "\n",
        "\n",
        "\n",
        "```c\n",
        "  #include<stdio.h>\n",
        "  int main()\n",
        "  {\n",
        "    printf(\"Hello world\");\n",
        "  }\n",
        "\n",
        "```\n",
        "#### python code for hello world\n",
        "\n",
        "```python\n",
        " print(\"Hello world\")\n",
        "```\n",
        "\n",
        "#### HTML Code\n",
        "\n",
        "\n",
        "```html\n",
        "<h1>Heading</h1>\n",
        "```\n",
        "\n",
        "\n",
        "\n",
        "\n",
        "\n",
        "\n",
        "\n",
        "\n",
        "\n",
        "\n",
        "\n"
      ]
    },
    {
      "cell_type": "markdown",
      "metadata": {
        "id": "44-6_ug79XBh"
      },
      "source": [
        "### QUOTES\n",
        "\n",
        "Normal Data\n",
        "\n",
        "> sun rises in the east\n",
        "\n",
        "Normal Data\n",
        "\n",
        " Python is `easy` to learn\n"
      ]
    },
    {
      "cell_type": "markdown",
      "metadata": {
        "id": "vnCdI3pW-av8"
      },
      "source": [
        "### Mathematical Formulae\n",
        "\n",
        "\n",
        "$$(a+b)^2=a^2+b^2+2*a*b$$\n",
        "\n",
        " a+b whole square formulae is $(a_1+b_1)^2=a_1^2+b_1^2+2*a_1*b_1$\n",
        "\n",
        " $\\alpha+\\beta+\\gamma+\\lambda$\n",
        "\n",
        " $\\frac{a}{b}$\n",
        "\n",
        "$$\\begin{pmatrix} a & b \\\\ c & d \\end{pmatrix}$$\n",
        "\n",
        "\n",
        "[click here to view some mathematical formulae representations](https://www.math.ubc.ca/~pwalls/math-python/jupyter/latex/)\n",
        "\n"
      ]
    }
  ]
}